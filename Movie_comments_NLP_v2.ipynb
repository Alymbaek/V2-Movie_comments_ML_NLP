{
  "nbformat": 4,
  "nbformat_minor": 0,
  "metadata": {
    "colab": {
      "provenance": []
    },
    "kernelspec": {
      "name": "python3",
      "display_name": "Python 3"
    },
    "language_info": {
      "name": "python"
    }
  },
  "cells": [
    {
      "cell_type": "code",
      "execution_count": 1,
      "metadata": {
        "id": "V-ccOzNOiGd6"
      },
      "outputs": [],
      "source": [
        "import pandas as pd\n",
        "from sklearn.model_selection import train_test_split\n",
        "from sklearn.naive_bayes import MultinomialNB\n",
        "from sklearn.metrics import classification_report\n",
        "from sklearn.feature_extraction.text import CountVectorizer\n",
        "from nltk.corpus import stopwords\n",
        "import nltk"
      ]
    },
    {
      "cell_type": "code",
      "source": [
        "!pip -q install pymorphy2 razdel gradio\n"
      ],
      "metadata": {
        "id": "zuJZ0Ss8QOis"
      },
      "execution_count": 2,
      "outputs": []
    },
    {
      "cell_type": "code",
      "source": [
        "import numpy as np\n",
        "import re\n",
        "from sklearn.model_selection import GroupShuffleSplit, train_test_split"
      ],
      "metadata": {
        "id": "UgHR6DDWQc_b"
      },
      "execution_count": 3,
      "outputs": []
    },
    {
      "cell_type": "code",
      "source": [
        "df = pd.read_csv('movie_comments.csv')\n",
        "df.head(10)"
      ],
      "metadata": {
        "colab": {
          "base_uri": "https://localhost:8080/",
          "height": 363
        },
        "id": "SsYz62c0ieW6",
        "outputId": "9adb9dbb-8946-4309-cca4-eb589c21db65"
      },
      "execution_count": 4,
      "outputs": [
        {
          "output_type": "execute_result",
          "data": {
            "text/plain": [
              "                                                text       label\n",
              "0  Комедия получилась доброй и с душой. Смеха был...  no_spoiler\n",
              "1  Визуально фильм очень красивый, местами просто...  no_spoiler\n",
              "2  Очень качественный звук и отличные спецэффекты...  no_spoiler\n",
              "3  То, что антагонист на самом деле отец главного...     spoiler\n",
              "4  Герой жертвует собой ради спасения мира — эпич...     spoiler\n",
              "5  Финальный поворот, где героиня оказывается иск...     spoiler\n",
              "6  Визуально фильм очень красивый, местами просто...  no_spoiler\n",
              "7  Оказалось, что весь сюжет — это рассказ старик...     spoiler\n",
              "8  Комедия получилась доброй и с душой. Смеха был...  no_spoiler\n",
              "9  После просмотра остались только положительные ...  no_spoiler"
            ],
            "text/html": [
              "\n",
              "  <div id=\"df-7426eb5b-31d5-489d-a1af-293763e07e53\" class=\"colab-df-container\">\n",
              "    <div>\n",
              "<style scoped>\n",
              "    .dataframe tbody tr th:only-of-type {\n",
              "        vertical-align: middle;\n",
              "    }\n",
              "\n",
              "    .dataframe tbody tr th {\n",
              "        vertical-align: top;\n",
              "    }\n",
              "\n",
              "    .dataframe thead th {\n",
              "        text-align: right;\n",
              "    }\n",
              "</style>\n",
              "<table border=\"1\" class=\"dataframe\">\n",
              "  <thead>\n",
              "    <tr style=\"text-align: right;\">\n",
              "      <th></th>\n",
              "      <th>text</th>\n",
              "      <th>label</th>\n",
              "    </tr>\n",
              "  </thead>\n",
              "  <tbody>\n",
              "    <tr>\n",
              "      <th>0</th>\n",
              "      <td>Комедия получилась доброй и с душой. Смеха был...</td>\n",
              "      <td>no_spoiler</td>\n",
              "    </tr>\n",
              "    <tr>\n",
              "      <th>1</th>\n",
              "      <td>Визуально фильм очень красивый, местами просто...</td>\n",
              "      <td>no_spoiler</td>\n",
              "    </tr>\n",
              "    <tr>\n",
              "      <th>2</th>\n",
              "      <td>Очень качественный звук и отличные спецэффекты...</td>\n",
              "      <td>no_spoiler</td>\n",
              "    </tr>\n",
              "    <tr>\n",
              "      <th>3</th>\n",
              "      <td>То, что антагонист на самом деле отец главного...</td>\n",
              "      <td>spoiler</td>\n",
              "    </tr>\n",
              "    <tr>\n",
              "      <th>4</th>\n",
              "      <td>Герой жертвует собой ради спасения мира — эпич...</td>\n",
              "      <td>spoiler</td>\n",
              "    </tr>\n",
              "    <tr>\n",
              "      <th>5</th>\n",
              "      <td>Финальный поворот, где героиня оказывается иск...</td>\n",
              "      <td>spoiler</td>\n",
              "    </tr>\n",
              "    <tr>\n",
              "      <th>6</th>\n",
              "      <td>Визуально фильм очень красивый, местами просто...</td>\n",
              "      <td>no_spoiler</td>\n",
              "    </tr>\n",
              "    <tr>\n",
              "      <th>7</th>\n",
              "      <td>Оказалось, что весь сюжет — это рассказ старик...</td>\n",
              "      <td>spoiler</td>\n",
              "    </tr>\n",
              "    <tr>\n",
              "      <th>8</th>\n",
              "      <td>Комедия получилась доброй и с душой. Смеха был...</td>\n",
              "      <td>no_spoiler</td>\n",
              "    </tr>\n",
              "    <tr>\n",
              "      <th>9</th>\n",
              "      <td>После просмотра остались только положительные ...</td>\n",
              "      <td>no_spoiler</td>\n",
              "    </tr>\n",
              "  </tbody>\n",
              "</table>\n",
              "</div>\n",
              "    <div class=\"colab-df-buttons\">\n",
              "\n",
              "  <div class=\"colab-df-container\">\n",
              "    <button class=\"colab-df-convert\" onclick=\"convertToInteractive('df-7426eb5b-31d5-489d-a1af-293763e07e53')\"\n",
              "            title=\"Convert this dataframe to an interactive table.\"\n",
              "            style=\"display:none;\">\n",
              "\n",
              "  <svg xmlns=\"http://www.w3.org/2000/svg\" height=\"24px\" viewBox=\"0 -960 960 960\">\n",
              "    <path d=\"M120-120v-720h720v720H120Zm60-500h600v-160H180v160Zm220 220h160v-160H400v160Zm0 220h160v-160H400v160ZM180-400h160v-160H180v160Zm440 0h160v-160H620v160ZM180-180h160v-160H180v160Zm440 0h160v-160H620v160Z\"/>\n",
              "  </svg>\n",
              "    </button>\n",
              "\n",
              "  <style>\n",
              "    .colab-df-container {\n",
              "      display:flex;\n",
              "      gap: 12px;\n",
              "    }\n",
              "\n",
              "    .colab-df-convert {\n",
              "      background-color: #E8F0FE;\n",
              "      border: none;\n",
              "      border-radius: 50%;\n",
              "      cursor: pointer;\n",
              "      display: none;\n",
              "      fill: #1967D2;\n",
              "      height: 32px;\n",
              "      padding: 0 0 0 0;\n",
              "      width: 32px;\n",
              "    }\n",
              "\n",
              "    .colab-df-convert:hover {\n",
              "      background-color: #E2EBFA;\n",
              "      box-shadow: 0px 1px 2px rgba(60, 64, 67, 0.3), 0px 1px 3px 1px rgba(60, 64, 67, 0.15);\n",
              "      fill: #174EA6;\n",
              "    }\n",
              "\n",
              "    .colab-df-buttons div {\n",
              "      margin-bottom: 4px;\n",
              "    }\n",
              "\n",
              "    [theme=dark] .colab-df-convert {\n",
              "      background-color: #3B4455;\n",
              "      fill: #D2E3FC;\n",
              "    }\n",
              "\n",
              "    [theme=dark] .colab-df-convert:hover {\n",
              "      background-color: #434B5C;\n",
              "      box-shadow: 0px 1px 3px 1px rgba(0, 0, 0, 0.15);\n",
              "      filter: drop-shadow(0px 1px 2px rgba(0, 0, 0, 0.3));\n",
              "      fill: #FFFFFF;\n",
              "    }\n",
              "  </style>\n",
              "\n",
              "    <script>\n",
              "      const buttonEl =\n",
              "        document.querySelector('#df-7426eb5b-31d5-489d-a1af-293763e07e53 button.colab-df-convert');\n",
              "      buttonEl.style.display =\n",
              "        google.colab.kernel.accessAllowed ? 'block' : 'none';\n",
              "\n",
              "      async function convertToInteractive(key) {\n",
              "        const element = document.querySelector('#df-7426eb5b-31d5-489d-a1af-293763e07e53');\n",
              "        const dataTable =\n",
              "          await google.colab.kernel.invokeFunction('convertToInteractive',\n",
              "                                                    [key], {});\n",
              "        if (!dataTable) return;\n",
              "\n",
              "        const docLinkHtml = 'Like what you see? Visit the ' +\n",
              "          '<a target=\"_blank\" href=https://colab.research.google.com/notebooks/data_table.ipynb>data table notebook</a>'\n",
              "          + ' to learn more about interactive tables.';\n",
              "        element.innerHTML = '';\n",
              "        dataTable['output_type'] = 'display_data';\n",
              "        await google.colab.output.renderOutput(dataTable, element);\n",
              "        const docLink = document.createElement('div');\n",
              "        docLink.innerHTML = docLinkHtml;\n",
              "        element.appendChild(docLink);\n",
              "      }\n",
              "    </script>\n",
              "  </div>\n",
              "\n",
              "\n",
              "    <div id=\"df-2ab48b55-7434-4d46-a06f-cfc182bbc076\">\n",
              "      <button class=\"colab-df-quickchart\" onclick=\"quickchart('df-2ab48b55-7434-4d46-a06f-cfc182bbc076')\"\n",
              "                title=\"Suggest charts\"\n",
              "                style=\"display:none;\">\n",
              "\n",
              "<svg xmlns=\"http://www.w3.org/2000/svg\" height=\"24px\"viewBox=\"0 0 24 24\"\n",
              "     width=\"24px\">\n",
              "    <g>\n",
              "        <path d=\"M19 3H5c-1.1 0-2 .9-2 2v14c0 1.1.9 2 2 2h14c1.1 0 2-.9 2-2V5c0-1.1-.9-2-2-2zM9 17H7v-7h2v7zm4 0h-2V7h2v10zm4 0h-2v-4h2v4z\"/>\n",
              "    </g>\n",
              "</svg>\n",
              "      </button>\n",
              "\n",
              "<style>\n",
              "  .colab-df-quickchart {\n",
              "      --bg-color: #E8F0FE;\n",
              "      --fill-color: #1967D2;\n",
              "      --hover-bg-color: #E2EBFA;\n",
              "      --hover-fill-color: #174EA6;\n",
              "      --disabled-fill-color: #AAA;\n",
              "      --disabled-bg-color: #DDD;\n",
              "  }\n",
              "\n",
              "  [theme=dark] .colab-df-quickchart {\n",
              "      --bg-color: #3B4455;\n",
              "      --fill-color: #D2E3FC;\n",
              "      --hover-bg-color: #434B5C;\n",
              "      --hover-fill-color: #FFFFFF;\n",
              "      --disabled-bg-color: #3B4455;\n",
              "      --disabled-fill-color: #666;\n",
              "  }\n",
              "\n",
              "  .colab-df-quickchart {\n",
              "    background-color: var(--bg-color);\n",
              "    border: none;\n",
              "    border-radius: 50%;\n",
              "    cursor: pointer;\n",
              "    display: none;\n",
              "    fill: var(--fill-color);\n",
              "    height: 32px;\n",
              "    padding: 0;\n",
              "    width: 32px;\n",
              "  }\n",
              "\n",
              "  .colab-df-quickchart:hover {\n",
              "    background-color: var(--hover-bg-color);\n",
              "    box-shadow: 0 1px 2px rgba(60, 64, 67, 0.3), 0 1px 3px 1px rgba(60, 64, 67, 0.15);\n",
              "    fill: var(--button-hover-fill-color);\n",
              "  }\n",
              "\n",
              "  .colab-df-quickchart-complete:disabled,\n",
              "  .colab-df-quickchart-complete:disabled:hover {\n",
              "    background-color: var(--disabled-bg-color);\n",
              "    fill: var(--disabled-fill-color);\n",
              "    box-shadow: none;\n",
              "  }\n",
              "\n",
              "  .colab-df-spinner {\n",
              "    border: 2px solid var(--fill-color);\n",
              "    border-color: transparent;\n",
              "    border-bottom-color: var(--fill-color);\n",
              "    animation:\n",
              "      spin 1s steps(1) infinite;\n",
              "  }\n",
              "\n",
              "  @keyframes spin {\n",
              "    0% {\n",
              "      border-color: transparent;\n",
              "      border-bottom-color: var(--fill-color);\n",
              "      border-left-color: var(--fill-color);\n",
              "    }\n",
              "    20% {\n",
              "      border-color: transparent;\n",
              "      border-left-color: var(--fill-color);\n",
              "      border-top-color: var(--fill-color);\n",
              "    }\n",
              "    30% {\n",
              "      border-color: transparent;\n",
              "      border-left-color: var(--fill-color);\n",
              "      border-top-color: var(--fill-color);\n",
              "      border-right-color: var(--fill-color);\n",
              "    }\n",
              "    40% {\n",
              "      border-color: transparent;\n",
              "      border-right-color: var(--fill-color);\n",
              "      border-top-color: var(--fill-color);\n",
              "    }\n",
              "    60% {\n",
              "      border-color: transparent;\n",
              "      border-right-color: var(--fill-color);\n",
              "    }\n",
              "    80% {\n",
              "      border-color: transparent;\n",
              "      border-right-color: var(--fill-color);\n",
              "      border-bottom-color: var(--fill-color);\n",
              "    }\n",
              "    90% {\n",
              "      border-color: transparent;\n",
              "      border-bottom-color: var(--fill-color);\n",
              "    }\n",
              "  }\n",
              "</style>\n",
              "\n",
              "      <script>\n",
              "        async function quickchart(key) {\n",
              "          const quickchartButtonEl =\n",
              "            document.querySelector('#' + key + ' button');\n",
              "          quickchartButtonEl.disabled = true;  // To prevent multiple clicks.\n",
              "          quickchartButtonEl.classList.add('colab-df-spinner');\n",
              "          try {\n",
              "            const charts = await google.colab.kernel.invokeFunction(\n",
              "                'suggestCharts', [key], {});\n",
              "          } catch (error) {\n",
              "            console.error('Error during call to suggestCharts:', error);\n",
              "          }\n",
              "          quickchartButtonEl.classList.remove('colab-df-spinner');\n",
              "          quickchartButtonEl.classList.add('colab-df-quickchart-complete');\n",
              "        }\n",
              "        (() => {\n",
              "          let quickchartButtonEl =\n",
              "            document.querySelector('#df-2ab48b55-7434-4d46-a06f-cfc182bbc076 button');\n",
              "          quickchartButtonEl.style.display =\n",
              "            google.colab.kernel.accessAllowed ? 'block' : 'none';\n",
              "        })();\n",
              "      </script>\n",
              "    </div>\n",
              "\n",
              "    </div>\n",
              "  </div>\n"
            ],
            "application/vnd.google.colaboratory.intrinsic+json": {
              "type": "dataframe",
              "variable_name": "df",
              "summary": "{\n  \"name\": \"df\",\n  \"rows\": 5000,\n  \"fields\": [\n    {\n      \"column\": \"text\",\n      \"properties\": {\n        \"dtype\": \"string\",\n        \"num_unique_values\": 4927,\n        \"samples\": [\n          \"\\u0410\\u043a\\u0442\\u0451\\u0440\\u0441\\u043a\\u0430\\u044f \\u0438\\u0433\\u0440\\u0430 \\u043d\\u0430 \\u0432\\u044b\\u0441\\u043e\\u0442\\u0435. \\u0412\\u0438\\u0434\\u043d\\u043e, \\u0447\\u0442\\u043e \\u0432\\u0441\\u0435 \\u0441\\u0442\\u0430\\u0440\\u0430\\u043b\\u0438\\u0441\\u044c. \\u0412\\u043e\\u0437\\u043c\\u0443\\u0442\\u0438\\u0442\\u044c\\u0441\\u044f \\u043c\\u0435\\u0434\\u0438\\u0446\\u0438\\u043d\\u0430 \\u0442\\u043e\\u0440\\u043e\\u043f\\u043b\\u0438\\u0432\\u044b\\u0439 \\u044f\\u0440\\u043a\\u043e.\\n\\u041c\\u0435\\u0434\\u0438\\u0446\\u0438\\u043d\\u0430 \\u043c\\u043e\\u0442\\u043e\\u0446\\u0438\\u043a\\u043b \\u0441\\u043c\\u0435\\u043b\\u044b\\u0439 \\u0432\\u044b\\u0432\\u0435\\u0441\\u0442\\u0438. \\u041b\\u0435\\u0442\\u0435\\u0442\\u044c \\u043d\\u0430\\u0436\\u0430\\u0442\\u044c \\u0437\\u0435\\u043b\\u0435\\u043d\\u044b\\u0439 \\u043c\\u0430\\u043b\\u044c\\u0447\\u0438\\u0448\\u043a\\u0430 \\u043c\\u0435\\u0434\\u0438\\u0446\\u0438\\u043d\\u0430 \\u0432\\u044b\\u0432\\u0435\\u0441\\u0442\\u0438. \\u041f\\u043e\\u0434\\u0437\\u0435\\u043c\\u043d\\u044b\\u0439 \\u043e\\u0442\\u044a\\u0435\\u0437\\u0434 \\u0433\\u043e\\u0440\\u044c\\u043a\\u0438\\u0439 \\u0442\\u0440\\u044f\\u0441\\u0442\\u0438 \\u0443\\u0441\\u043f\\u043e\\u043a\\u043e\\u0438\\u0442\\u044c\\u0441\\u044f \\u043f\\u043e\\u043a\\u0438\\u043d\\u0443\\u0442\\u044c.\\n\\u041f\\u0430\\u0441\\u0442\\u0443\\u0445 \\u0440\\u0430\\u0437\\u0432\\u043e\\u0434\\u0438\\u0442\\u044c \\u0437\\u0430\\u0447\\u0435\\u043c \\u0437\\u0430\\u044f\\u0432\\u043b\\u0435\\u043d\\u0438\\u0435 \\u043a\\u043e\\u043d\\u0441\\u0442\\u0440\\u0443\\u043a\\u0446\\u0438\\u044f \\u044d\\u0444\\u0444\\u0435\\u043a\\u0442 \\u0441\\u043e\\u043f\\u0440\\u043e\\u0432\\u043e\\u0436\\u0434\\u0430\\u0442\\u044c\\u0441\\u044f.\",\n          \"\\u0412\\u0438\\u0437\\u0443\\u0430\\u043b\\u044c\\u043d\\u043e \\u0444\\u0438\\u043b\\u044c\\u043c \\u043e\\u0447\\u0435\\u043d\\u044c \\u043a\\u0440\\u0430\\u0441\\u0438\\u0432\\u044b\\u0439, \\u043c\\u0435\\u0441\\u0442\\u0430\\u043c\\u0438 \\u043f\\u0440\\u043e\\u0441\\u0442\\u043e \\u0434\\u0443\\u0445 \\u0437\\u0430\\u0445\\u0432\\u0430\\u0442\\u044b\\u0432\\u0430\\u0435\\u0442. \\u0413\\u0440\\u0443\\u0441\\u0442\\u043d\\u044b\\u0439 \\u043c\\u0430\\u043d\\u0435\\u0440\\u0430 \\u0440\\u0435\\u043c\\u0435\\u043d\\u044c \\u043e\\u0442\\u044a\\u0435\\u0437\\u0434 \\u0440\\u043e\\u0441\\u043a\\u043e\\u0448\\u043d\\u044b\\u0439 \\u0430\\u043d\\u0430\\u043b\\u0438\\u0437 \\u043f\\u043e\\u043c\\u043e\\u043b\\u0447\\u0430\\u0442\\u044c \\u0430\\u0434\\u0432\\u043e\\u043a\\u0430\\u0442. \\u0417\\u0430\\u043f\\u0435\\u0442\\u044c \\u0434\\u043e\\u0440\\u043e\\u0433\\u043e\\u0439 \\u0437\\u0430\\u0432\\u0435\\u0434\\u0435\\u043d\\u0438\\u0435 \\u043f\\u043e\\u043b\\u043d\\u043e\\u0441\\u0442\\u044c\\u044e \\u044e\\u043d\\u044b\\u0439 \\u043f\\u043e\\u043b\\u044e\\u0431\\u0438\\u0442\\u044c \\u0441\\u0442\\u0435\\u043f\\u044c \\u0447\\u0442\\u043e. \\u0412\\u043e\\u043e\\u0431\\u0449\\u0435 \\u0440\\u0435\\u0448\\u0435\\u0442\\u043a\\u0430 \\u043d\\u0430\\u0441\\u043b\\u0430\\u0436\\u0434\\u0435\\u043d\\u0438\\u0435 \\u0434\\u0435\\u0432\\u043a\\u0430 \\u043f\\u043b\\u044f\\u0441\\u0430\\u0442\\u044c \\u0441\\u044b\\u043d\\u043e\\u043a.\",\n          \"\\u0425\\u043e\\u0440\\u043e\\u0448\\u0435\\u0435 \\u043a\\u0438\\u043d\\u043e \\u0434\\u043b\\u044f \\u0441\\u0435\\u043c\\u0435\\u0439\\u043d\\u043e\\u0433\\u043e \\u0432\\u0435\\u0447\\u0435\\u0440\\u0430 \\u0438\\u043b\\u0438 \\u043f\\u0440\\u043e\\u0441\\u0442\\u043e \\u0447\\u0442\\u043e\\u0431\\u044b \\u0440\\u0430\\u0441\\u0441\\u043b\\u0430\\u0431\\u0438\\u0442\\u044c\\u0441\\u044f. \\u0424\\u0443\\u043d\\u043a\\u0446\\u0438\\u044f \\u0432\\u0441\\u043a\\u0438\\u043d\\u0443\\u0442\\u044c \\u0440\\u043e\\u0441\\u043a\\u043e\\u0448\\u043d\\u044b\\u0439.\"\n        ],\n        \"semantic_type\": \"\",\n        \"description\": \"\"\n      }\n    },\n    {\n      \"column\": \"label\",\n      \"properties\": {\n        \"dtype\": \"category\",\n        \"num_unique_values\": 2,\n        \"samples\": [\n          \"spoiler\",\n          \"no_spoiler\"\n        ],\n        \"semantic_type\": \"\",\n        \"description\": \"\"\n      }\n    }\n  ]\n}"
            }
          },
          "metadata": {},
          "execution_count": 4
        }
      ]
    },
    {
      "cell_type": "code",
      "source": [
        "# базовая чистка\n",
        "def normalize(s: str) -> str:\n",
        "    s = s.strip().lower()\n",
        "    s = re.sub(r'\\s+', ' ', s)\n",
        "    s = s.replace('ё', 'е')\n",
        "    return s"
      ],
      "metadata": {
        "id": "dtMCtyXSQho2"
      },
      "execution_count": 5,
      "outputs": []
    },
    {
      "cell_type": "code",
      "source": [
        "df['text_norm'] = df['text'].astype(str).apply(normalize)\n",
        "df = df.dropna(subset=['text_norm', 'label'])"
      ],
      "metadata": {
        "id": "3T_ZTenOieSF"
      },
      "execution_count": 6,
      "outputs": []
    },
    {
      "cell_type": "code",
      "source": [
        "# убираем точные дубликаты по нормализованному тексту\n",
        "df = df.drop_duplicates(subset=['text_norm', 'label']).reset_index(drop=True)\n",
        "\n",
        "# группы по тексту (чтобы один и тот же комментарий не попал и в train, и в test)\n",
        "df['group'] = df['text_norm'].factorize()[0]\n",
        "\n",
        "X = df['text']           # сырой текст оставим для векторизаторов\n",
        "y = df['label']\n",
        "groups = df['group']"
      ],
      "metadata": {
        "id": "6Zsp7FRuiePe"
      },
      "execution_count": 7,
      "outputs": []
    },
    {
      "cell_type": "code",
      "source": [
        "# делим на train+test с защитой от утечек\n",
        "gss = GroupShuffleSplit(n_splits=1, test_size=0.1, random_state=42)\n",
        "train_val_idx, test_idx = next(gss.split(X, y, groups))"
      ],
      "metadata": {
        "id": "e2OYiMlYieNP"
      },
      "execution_count": 8,
      "outputs": []
    },
    {
      "cell_type": "code",
      "source": [
        "X_train_val, X_test = X.iloc[train_val_idx], X.iloc[test_idx]\n",
        "y_train_val, y_test = y.iloc[train_val_idx], y.iloc[test_idx]\n",
        "groups_train_val = groups.iloc[train_val_idx]"
      ],
      "metadata": {
        "id": "tAIDww5jieLW"
      },
      "execution_count": 9,
      "outputs": []
    },
    {
      "cell_type": "code",
      "source": [
        "# из train_val делаем train/val\n",
        "gss2 = GroupShuffleSplit(n_splits=1, test_size=0.111, random_state=42)  # ≈ 0.1 от всего\n",
        "tr_idx, val_idx = next(gss2.split(X_train_val, y_train_val, groups_train_val))\n",
        "\n",
        "X_train, X_val = X_train_val.iloc[tr_idx], X_train_val.iloc[val_idx]\n",
        "y_train, y_val = y_train_val.iloc[tr_idx], y_train_val.iloc[val_idx]\n",
        "\n",
        "print(len(X_train), len(X_val), len(X_test))\n",
        "print(y.value_counts(normalize=True))  # баланс классов"
      ],
      "metadata": {
        "id": "KWxZqPzKieG9",
        "colab": {
          "base_uri": "https://localhost:8080/"
        },
        "outputId": "166ba38a-307f-44f1-d182-77eddc2147fa"
      },
      "execution_count": 10,
      "outputs": [
        {
          "output_type": "stream",
          "name": "stdout",
          "text": [
            "3941 493 493\n",
            "label\n",
            "no_spoiler    0.507205\n",
            "spoiler       0.492795\n",
            "Name: proportion, dtype: float64\n"
          ]
        }
      ]
    },
    {
      "cell_type": "code",
      "source": [
        "from sklearn.pipeline import Pipeline\n",
        "from sklearn.metrics import classification_report, confusion_matrix\n",
        "\n",
        "pipe_bow = Pipeline([\n",
        "    ('vec', CountVectorizer(stop_words=None)),  # можно подставить русские стоп-слова\n",
        "    ('clf', MultinomialNB())\n",
        "])\n",
        "\n",
        "pipe_bow.fit(X_train, y_train)\n",
        "pred_val = pipe_bow.predict(X_val)\n",
        "print('=== BoW + NB (VAL) ===')\n",
        "print(classification_report(y_val, pred_val, digits=4))\n"
      ],
      "metadata": {
        "colab": {
          "base_uri": "https://localhost:8080/"
        },
        "id": "TeMvkA03ieD4",
        "outputId": "a08b1ce5-dfe5-4f95-f0e1-9e6a2c7eaf97"
      },
      "execution_count": 11,
      "outputs": [
        {
          "output_type": "stream",
          "name": "stdout",
          "text": [
            "=== BoW + NB (VAL) ===\n",
            "              precision    recall  f1-score   support\n",
            "\n",
            "  no_spoiler     1.0000    1.0000    1.0000       253\n",
            "     spoiler     1.0000    1.0000    1.0000       240\n",
            "\n",
            "    accuracy                         1.0000       493\n",
            "   macro avg     1.0000    1.0000    1.0000       493\n",
            "weighted avg     1.0000    1.0000    1.0000       493\n",
            "\n"
          ]
        }
      ]
    },
    {
      "cell_type": "code",
      "source": [
        "from sklearn.feature_extraction.text import TfidfVectorizer\n",
        "from sklearn.model_selection import StratifiedKFold, cross_val_score, GridSearchCV\n",
        "\n",
        "pipe_tfidf_nb = Pipeline([\n",
        "    ('tfidf', TfidfVectorizer(ngram_range=(1,2), min_df=2, max_df=0.9)),\n",
        "    ('clf', MultinomialNB())\n",
        "])\n",
        "\n",
        "# Подбор сглаживания NB\n",
        "param_grid = {'clf__alpha': [0.1, 0.3, 0.7, 1.0]}\n",
        "cv = StratifiedKFold(n_splits=5, shuffle=True, random_state=42)\n",
        "\n",
        "grid = GridSearchCV(pipe_tfidf_nb, param_grid, cv=cv, scoring='f1_macro', n_jobs=-1)\n",
        "grid.fit(X_train, y_train)\n",
        "\n",
        "print('Best params:', grid.best_params_)\n",
        "print('Best CV f1_macro:', grid.best_score_)\n",
        "\n",
        "best_tfidf_nb = grid.best_estimator_\n",
        "pred_val = best_tfidf_nb.predict(X_val)\n",
        "print('=== TF-IDF + NB (VAL) ===')\n",
        "print(classification_report(y_val, pred_val, digits=4))\n"
      ],
      "metadata": {
        "id": "Rf5mINiXid99",
        "colab": {
          "base_uri": "https://localhost:8080/"
        },
        "outputId": "bdbd321d-1331-445a-9a7e-843ea4631b1c"
      },
      "execution_count": 12,
      "outputs": [
        {
          "output_type": "stream",
          "name": "stdout",
          "text": [
            "Best params: {'clf__alpha': 0.1}\n",
            "Best CV f1_macro: 1.0\n",
            "=== TF-IDF + NB (VAL) ===\n",
            "              precision    recall  f1-score   support\n",
            "\n",
            "  no_spoiler     1.0000    1.0000    1.0000       253\n",
            "     spoiler     1.0000    1.0000    1.0000       240\n",
            "\n",
            "    accuracy                         1.0000       493\n",
            "   macro avg     1.0000    1.0000    1.0000       493\n",
            "weighted avg     1.0000    1.0000    1.0000       493\n",
            "\n"
          ]
        }
      ]
    },
    {
      "cell_type": "code",
      "source": [
        "import inspect\n",
        "from collections import namedtuple\n",
        "\n",
        "if not hasattr(inspect, \"getargspec\"):\n",
        "    ArgSpec = namedtuple(\"ArgSpec\", \"args varargs keywords defaults\")\n",
        "    def getargspec(func):\n",
        "        fs = inspect.getfullargspec(func)\n",
        "        return ArgSpec(fs.args, fs.varargs, fs.varkw, fs.defaults)\n",
        "    inspect.getargspec = getargspec"
      ],
      "metadata": {
        "id": "Lm0eQpY1R-jC"
      },
      "execution_count": 13,
      "outputs": []
    },
    {
      "cell_type": "code",
      "source": [
        "import pymorphy2\n",
        "from razdel import tokenize\n",
        "\n",
        "morph = pymorphy2.MorphAnalyzer()\n",
        "\n",
        "# кэш ускоряет анализ\n",
        "_cache = {}\n",
        "\n",
        "def lemma_tokens(text: str):\n",
        "    tokens = []\n",
        "    for t in tokenize(text.lower()):\n",
        "        w = t.text\n",
        "        if not re.match(r'^[а-яё-]+$', w):  # только русские слова и дефисы\n",
        "            continue\n",
        "        if w in _cache:\n",
        "            tokens.append(_cache[w])\n",
        "            continue\n",
        "        normal = morph.parse(w)[0].normal_form\n",
        "        _cache[w] = normal\n",
        "        tokens.append(normal)\n",
        "    return tokens\n",
        "\n",
        "pipe_lemma_tfidf_nb = Pipeline([\n",
        "    ('tfidf', TfidfVectorizer(analyzer=lemma_tokens, ngram_range=(1,2), min_df=2, max_df=0.95)),\n",
        "    ('clf', MultinomialNB(alpha=grid.best_params_['clf__alpha']))  # можно снова подобрать\n",
        "])\n",
        "\n",
        "pipe_lemma_tfidf_nb.fit(X_train, y_train)\n",
        "pred_val = pipe_lemma_tfidf_nb.predict(X_val)\n",
        "print('=== Lemma TF-IDF + NB (VAL) ===')\n",
        "print(classification_report(y_val, pred_val, digits=4))\n"
      ],
      "metadata": {
        "colab": {
          "base_uri": "https://localhost:8080/"
        },
        "id": "CwKqU0LnRbt_",
        "outputId": "f1946b00-bc00-4609-f9bb-5ff6fbc16df0"
      },
      "execution_count": 14,
      "outputs": [
        {
          "output_type": "stream",
          "name": "stderr",
          "text": [
            "/usr/local/lib/python3.12/dist-packages/sklearn/feature_extraction/text.py:533: UserWarning: The parameter 'ngram_range' will not be used since 'analyzer' is callable'\n",
            "  warnings.warn(\n"
          ]
        },
        {
          "output_type": "stream",
          "name": "stdout",
          "text": [
            "=== Lemma TF-IDF + NB (VAL) ===\n",
            "              precision    recall  f1-score   support\n",
            "\n",
            "  no_spoiler     1.0000    1.0000    1.0000       253\n",
            "     spoiler     1.0000    1.0000    1.0000       240\n",
            "\n",
            "    accuracy                         1.0000       493\n",
            "   macro avg     1.0000    1.0000    1.0000       493\n",
            "weighted avg     1.0000    1.0000    1.0000       493\n",
            "\n"
          ]
        }
      ]
    },
    {
      "cell_type": "code",
      "source": [
        "from sklearn.svm import LinearSVC\n",
        "\n",
        "pipe_char_svc = Pipeline([\n",
        "    ('tfidf', TfidfVectorizer(analyzer='char', ngram_range=(3,5), min_df=2, max_df=0.9)),\n",
        "    ('clf', LinearSVC())\n",
        "])\n",
        "\n",
        "pipe_char_svc.fit(X_train, y_train)\n",
        "pred_val = pipe_char_svc.predict(X_val)\n",
        "print('=== Char 3-5 + LinearSVC (VAL) ===')\n",
        "print(classification_report(y_val, pred_val, digits=4))\n"
      ],
      "metadata": {
        "colab": {
          "base_uri": "https://localhost:8080/"
        },
        "id": "KfU5S3qmSQ9H",
        "outputId": "355d2258-35f4-44cc-818a-669436e6cb82"
      },
      "execution_count": 15,
      "outputs": [
        {
          "output_type": "stream",
          "name": "stdout",
          "text": [
            "=== Char 3-5 + LinearSVC (VAL) ===\n",
            "              precision    recall  f1-score   support\n",
            "\n",
            "  no_spoiler     1.0000    1.0000    1.0000       253\n",
            "     spoiler     1.0000    1.0000    1.0000       240\n",
            "\n",
            "    accuracy                         1.0000       493\n",
            "   macro avg     1.0000    1.0000    1.0000       493\n",
            "weighted avg     1.0000    1.0000    1.0000       493\n",
            "\n"
          ]
        }
      ]
    },
    {
      "cell_type": "code",
      "source": [
        "from sklearn.metrics import ConfusionMatrixDisplay\n",
        "import matplotlib.pyplot as plt\n",
        "\n",
        "best_model = pipe_lemma_tfidf_nb  # например\n",
        "\n",
        "best_model.fit(pd.concat([X_train, X_val]),\n",
        "               pd.concat([y_train, y_val]))\n",
        "\n",
        "pred_test = best_model.predict(X_test)\n",
        "print('=== FINAL (TEST) ===')\n",
        "print(classification_report(y_test, pred_test, digits=4))\n",
        "\n",
        "cm = confusion_matrix(y_test, pred_test, labels=['spoiler','no_spoiler'])\n",
        "disp = ConfusionMatrixDisplay(confusion_matrix=cm, display_labels=['spoiler','no_spoiler'])\n",
        "disp.plot(cmap='Blues'); plt.show()\n"
      ],
      "metadata": {
        "colab": {
          "base_uri": "https://localhost:8080/",
          "height": 659
        },
        "id": "gtjshJLVSQ6v",
        "outputId": "c4fdc8e3-9f06-4d11-ca6c-ac0531f7e0ea"
      },
      "execution_count": 16,
      "outputs": [
        {
          "output_type": "stream",
          "name": "stderr",
          "text": [
            "/usr/local/lib/python3.12/dist-packages/sklearn/feature_extraction/text.py:533: UserWarning: The parameter 'ngram_range' will not be used since 'analyzer' is callable'\n",
            "  warnings.warn(\n"
          ]
        },
        {
          "output_type": "stream",
          "name": "stdout",
          "text": [
            "=== FINAL (TEST) ===\n",
            "              precision    recall  f1-score   support\n",
            "\n",
            "  no_spoiler     1.0000    1.0000    1.0000       240\n",
            "     spoiler     1.0000    1.0000    1.0000       253\n",
            "\n",
            "    accuracy                         1.0000       493\n",
            "   macro avg     1.0000    1.0000    1.0000       493\n",
            "weighted avg     1.0000    1.0000    1.0000       493\n",
            "\n"
          ]
        },
        {
          "output_type": "display_data",
          "data": {
            "text/plain": [
              "<Figure size 640x480 with 2 Axes>"
            ],
            "image/png": "[encoded data removed]"
          },
          "metadata": {}
        }
      ]
    },
    {
      "cell_type": "code",
      "source": [
        "import joblib\n",
        "\n",
        "# из Pipeline можно достать векторизатор и модель\n",
        "vec = best_model.named_steps['tfidf']\n",
        "clf = best_model.named_steps['clf']\n",
        "\n",
        "joblib.dump(vec, 'vec.pkl')\n",
        "joblib.dump(clf, 'spoiler_detector.pkl')\n"
      ],
      "metadata": {
        "colab": {
          "base_uri": "https://localhost:8080/"
        },
        "id": "V457AD-KSQ3o",
        "outputId": "23a1618a-bfb7-4208-dfe7-05ac78334303"
      },
      "execution_count": 17,
      "outputs": [
        {
          "output_type": "execute_result",
          "data": {
            "text/plain": [
              "['spoiler_detector.pkl']"
            ]
          },
          "metadata": {},
          "execution_count": 17
        }
      ]
    },
    {
      "cell_type": "code",
      "source": [
        "import gradio as gr\n",
        "\n",
        "def predict_spoiler(text):\n",
        "    label = best_model.predict([text])[0]\n",
        "    proba = None\n",
        "    try:\n",
        "        # NB умеет predict_proba, SVC — нет\n",
        "        proba = best_model.predict_proba([text])[0].max().round(3)\n",
        "    except Exception:\n",
        "        pass\n",
        "    return f'{label} (confidence: {proba})' if proba is not None else label\n",
        "\n",
        "demo = gr.Interface(fn=predict_spoiler,\n",
        "                    inputs=gr.Textbox(lines=3, placeholder=\"Введите комментарий...\"),\n",
        "                    outputs=\"text\",\n",
        "                    title=\"Spoiler Detector (ru)\",\n",
        "                    description=\"NLP baseline: TF-IDF + NB / лемматизация\")\n",
        "demo.launch(debug=False)\n"
      ],
      "metadata": {
        "colab": {
          "base_uri": "https://localhost:8080/",
          "height": 646
        },
        "id": "OXQfhzb2UIKm",
        "outputId": "8c2914db-4d49-46d2-c3b5-486284f12a68"
      },
      "execution_count": 18,
      "outputs": [
        {
          "output_type": "stream",
          "name": "stdout",
          "text": [
            "It looks like you are running Gradio on a hosted Jupyter notebook, which requires `share=True`. Automatically setting `share=True` (you can turn this off by setting `share=False` in `launch()` explicitly).\n",
            "\n",
            "Colab notebook detected. To show errors in colab notebook, set debug=True in launch()\n",
            "* Running on public URL: https://c54b8606cd8194f4d7.gradio.live\n",
            "\n",
            "This share link expires in 1 week. For free permanent hosting and GPU upgrades, run `gradio deploy` from the terminal in the working directory to deploy to Hugging Face Spaces (https://huggingface.co/spaces)\n"
          ]
        },
        {
          "output_type": "display_data",
          "data": {
            "text/plain": [
              "<IPython.core.display.HTML object>"
            ],
            "text/html": [
              "<div><iframe src=\"https://c54b8606cd8194f4d7.gradio.live\" width=\"100%\" height=\"500\" allow=\"autoplay; camera; microphone; clipboard-read; clipboard-write;\" frameborder=\"0\" allowfullscreen></iframe></div>"
            ]
          },
          "metadata": {}
        },
        {
          "output_type": "execute_result",
          "data": {
            "text/plain": []
          },
          "metadata": {},
          "execution_count": 18
        }
      ]
    },
    {
      "cell_type": "code",
      "source": [],
      "metadata": {
        "id": "Exa2fw-gUIFN"
      },
      "execution_count": null,
      "outputs": []
    }
  ]
}